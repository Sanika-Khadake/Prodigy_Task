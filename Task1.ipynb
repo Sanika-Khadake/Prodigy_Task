{
  "nbformat": 4,
  "nbformat_minor": 0,
  "metadata": {
    "colab": {
      "provenance": []
    },
    "kernelspec": {
      "name": "python3",
      "display_name": "Python 3"
    },
    "language_info": {
      "name": "python"
    }
  },
  "cells": [
    {
      "cell_type": "code",
      "execution_count": 1,
      "metadata": {
        "id": "lx1CRY-u4h8E"
      },
      "outputs": [],
      "source": [
        "import pandas as pd\n",
        "import numpy as np\n",
        "from sklearn.model_selection import train_test_split\n",
        "from sklearn.linear_model import LinearRegression\n",
        "from sklearn.metrics import mean_squared_error, r2_score"
      ]
    },
    {
      "cell_type": "code",
      "source": [
        "data = pd.read_csv(\"house-prices-advanced-regression-techniques/train.csv\")"
      ],
      "metadata": {
        "id": "QOEbf3nj5DhL"
      },
      "execution_count": null,
      "outputs": []
    },
    {
      "cell_type": "code",
      "source": [
        "print(data.head())"
      ],
      "metadata": {
        "id": "L7gXBREu5EdN"
      },
      "execution_count": null,
      "outputs": []
    },
    {
      "cell_type": "code",
      "source": [
        "# Selecting relevant columns (square footage: 'GrLivArea', number of bedrooms: 'BedroomAbvGr',\n",
        "# number of bathrooms: combining 'FullBath' and 'HalfBath', and target: 'SalePrice')\n",
        "data = data[['GrLivArea', 'BedroomAbvGr', 'FullBath', 'HalfBath', 'SalePrice']]"
      ],
      "metadata": {
        "id": "jzSzerqi5FMS"
      },
      "execution_count": null,
      "outputs": []
    },
    {
      "cell_type": "code",
      "source": [
        "data['TotalBathrooms'] = data['FullBath'] + 0.5 * data['HalfBath']"
      ],
      "metadata": {
        "id": "wpEPs-AY5F2L"
      },
      "execution_count": null,
      "outputs": []
    },
    {
      "cell_type": "code",
      "source": [
        "data = data.drop(['FullBath', 'HalfBath'], axis=1)"
      ],
      "metadata": {
        "id": "EtHSzasa5G7a"
      },
      "execution_count": null,
      "outputs": []
    },
    {
      "cell_type": "code",
      "source": [
        "data = data.dropna()"
      ],
      "metadata": {
        "id": "HeQaySUe5kIi"
      },
      "execution_count": null,
      "outputs": []
    },
    {
      "cell_type": "code",
      "source": [
        "X = data[['GrLivArea', 'BedroomAbvGr', 'TotalBathrooms']]\n",
        "y = data['SalePrice']"
      ],
      "metadata": {
        "id": "AJiE63Tr5kwA"
      },
      "execution_count": null,
      "outputs": []
    },
    {
      "cell_type": "code",
      "source": [
        "X_train, X_test, y_train, y_test = train_test_split(X, y, test_size=0.2, random_state=42)"
      ],
      "metadata": {
        "id": "SQYS-KjN5lTS"
      },
      "execution_count": null,
      "outputs": []
    },
    {
      "cell_type": "code",
      "source": [
        "model = LinearRegression()"
      ],
      "metadata": {
        "id": "VX7WuLR_5lyw"
      },
      "execution_count": null,
      "outputs": []
    },
    {
      "cell_type": "code",
      "source": [
        "model.fit(X_train, y_train)"
      ],
      "metadata": {
        "id": "qBbsReNQ50SI"
      },
      "execution_count": null,
      "outputs": []
    },
    {
      "cell_type": "code",
      "source": [
        "y_pred = model.predict(X_test)"
      ],
      "metadata": {
        "id": "4g9DVKXa506I"
      },
      "execution_count": null,
      "outputs": []
    },
    {
      "cell_type": "code",
      "source": [
        "mse = mean_squared_error(y_test, y_pred)\n",
        "r2 = r2_score(y_test, y_pred)"
      ],
      "metadata": {
        "id": "5yEIgltK51mP"
      },
      "execution_count": null,
      "outputs": []
    },
    {
      "cell_type": "code",
      "source": [
        "print(\"Mean Squared Error (MSE):\", mse)\n",
        "print(\"R-squared (R2):\", r2)"
      ],
      "metadata": {
        "id": "shIAyXRu52VM"
      },
      "execution_count": null,
      "outputs": []
    },
    {
      "cell_type": "code",
      "source": [
        "coefficients = pd.DataFrame({\n",
        "    'Feature': ['GrLivArea', 'BedroomAbvGr', 'TotalBathrooms'],\n",
        "    'Coefficient': model.coef_\n",
        "})"
      ],
      "metadata": {
        "id": "tfkhb5lK6JfV"
      },
      "execution_count": null,
      "outputs": []
    },
    {
      "cell_type": "code",
      "source": [
        "print(\"Coefficients:\")\n",
        "print(coefficients)"
      ],
      "metadata": {
        "id": "5kupWPLj6KW2"
      },
      "execution_count": null,
      "outputs": []
    },
    {
      "cell_type": "code",
      "source": [
        "predictions = pd.DataFrame({\n",
        "    'Actual': y_test,\n",
        "    'Predicted': y_pred\n",
        "})"
      ],
      "metadata": {
        "id": "GaHZmU1z6K8q"
      },
      "execution_count": null,
      "outputs": []
    },
    {
      "cell_type": "code",
      "source": [
        "predictions.to_csv('house_price_predictions.csv', index=False)\n",
        "print(\"Predictions saved to 'house_price_predictions.csv'\")\n"
      ],
      "metadata": {
        "id": "BspmgR8v6Z2B"
      },
      "execution_count": null,
      "outputs": []
    }
  ]
}