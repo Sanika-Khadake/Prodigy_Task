{
  "nbformat": 4,
  "nbformat_minor": 0,
  "metadata": {
    "colab": {
      "provenance": []
    },
    "kernelspec": {
      "name": "python3",
      "display_name": "Python 3"
    },
    "language_info": {
      "name": "python"
    }
  },
  "cells": [
    {
      "cell_type": "code",
      "execution_count": null,
      "metadata": {
        "id": "iksi0us49MJt"
      },
      "outputs": [],
      "source": [
        "import os\n",
        "import numpy as np\n",
        "from sklearn.model_selection import train_test_split\n",
        "from sklearn.svm import SVC\n",
        "from sklearn.metrics import accuracy_score, classification_report\n",
        "from tensorflow.keras.preprocessing.image import ImageDataGenerator, img_to_array, load_img"
      ]
    },
    {
      "cell_type": "code",
      "source": [
        "data_dir = \"dogs-vs-cats/train\""
      ],
      "metadata": {
        "id": "arfIa_GQ9Ykq"
      },
      "execution_count": null,
      "outputs": []
    },
    {
      "cell_type": "code",
      "source": [
        "img_size = (64, 64)"
      ],
      "metadata": {
        "id": "thJUZO9-9aB4"
      },
      "execution_count": null,
      "outputs": []
    },
    {
      "cell_type": "code",
      "source": [
        "categories = ['cat', 'dog']\n",
        "data = []\n",
        "labels = []\n",
        "\n",
        "print(\"Loading images...\")\n",
        "for category in categories:\n",
        "    category_path = os.path.join(data_dir, category)\n",
        "    label = categories.index(category)\n",
        "\n",
        "    for img_name in os.listdir(category_path):\n",
        "        try:\n",
        "            img_path = os.path.join(category_path, img_name)\n",
        "            img = load_img(img_path, target_size=img_size)\n",
        "            img_array = img_to_array(img)\n",
        "            data.append(img_array)\n",
        "            labels.append(label)\n",
        "        except Exception as e:\n",
        "            print(f\"Error loading image {img_path}: {e}\")"
      ],
      "metadata": {
        "id": "8-uumTlY9amI"
      },
      "execution_count": null,
      "outputs": []
    },
    {
      "cell_type": "code",
      "source": [
        "data = np.array(data, dtype='float32') / 255.0\n",
        "labels = np.array(labels)"
      ],
      "metadata": {
        "id": "T72PtS0i9bn6"
      },
      "execution_count": null,
      "outputs": []
    },
    {
      "cell_type": "code",
      "source": [
        "X_train, X_test, y_train, y_test = train_test_split(data, labels, test_size=0.2, random_state=42)"
      ],
      "metadata": {
        "id": "NqSb0KFd9cbe"
      },
      "execution_count": null,
      "outputs": []
    },
    {
      "cell_type": "code",
      "source": [
        "X_train_flat = X_train.reshape(X_train.shape[0], -1)\n",
        "X_test_flat = X_test.reshape(X_test.shape[0], -1)"
      ],
      "metadata": {
        "id": "bFebY-Ez9c5V"
      },
      "execution_count": null,
      "outputs": []
    },
    {
      "cell_type": "code",
      "source": [
        "print(\"Training SVM classifier...\")\n",
        "svm = SVC(kernel='linear', random_state=42)\n",
        "svm.fit(X_train_flat, y_train)"
      ],
      "metadata": {
        "id": "Bmw06S3n9dy0"
      },
      "execution_count": null,
      "outputs": []
    },
    {
      "cell_type": "code",
      "source": [
        "print(\"Making predictions...\")\n",
        "y_pred = svm.predict(X_test_flat)"
      ],
      "metadata": {
        "id": "Up1Aa5ss924k"
      },
      "execution_count": null,
      "outputs": []
    },
    {
      "cell_type": "code",
      "source": [
        "accuracy = accuracy_score(y_test, y_pred)\n",
        "print(f\"Accuracy: {accuracy * 100:.2f}%\")\n",
        "print(\"Classification Report:\")\n",
        "print(classification_report(y_test, y_pred, target_names=categories))"
      ],
      "metadata": {
        "id": "8JNACToC93dl"
      },
      "execution_count": null,
      "outputs": []
    },
    {
      "cell_type": "code",
      "source": [
        "import pickle\n",
        "with open(\"svm_cats_dogs_model.pkl\", \"wb\") as f:\n",
        "    pickle.dump(svm, f)\n",
        "print(\"Model saved as 'svm_cats_dogs_model.pkl'\")"
      ],
      "metadata": {
        "id": "h0GYuWpL93-4"
      },
      "execution_count": null,
      "outputs": []
    }
  ]
}