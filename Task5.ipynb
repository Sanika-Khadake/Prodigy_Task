{
  "nbformat": 4,
  "nbformat_minor": 0,
  "metadata": {
    "colab": {
      "provenance": []
    },
    "kernelspec": {
      "name": "python3",
      "display_name": "Python 3"
    },
    "language_info": {
      "name": "python"
    }
  },
  "cells": [
    {
      "cell_type": "code",
      "execution_count": 1,
      "metadata": {
        "id": "Dp5Uxpb3BuN9"
      },
      "outputs": [],
      "source": [
        "import os\n",
        "import tensorflow as tf\n",
        "from tensorflow.keras.preprocessing.image import ImageDataGenerator\n",
        "from tensorflow.keras.applications import ResNet50\n",
        "from tensorflow.keras.layers import Dense, GlobalAveragePooling2D\n",
        "from tensorflow.keras.models import Model\n",
        "import pandas as pd\n",
        "import numpy as np\n",
        "from flask import Flask, request, jsonify\n"
      ]
    },
    {
      "cell_type": "code",
      "source": [
        "DATASET_DIR = \"food-101/images\"\n",
        "CALORIE_FILE = \"calorie_data.csv\""
      ],
      "metadata": {
        "id": "-vxOuw-eB18Q"
      },
      "execution_count": null,
      "outputs": []
    },
    {
      "cell_type": "code",
      "source": [
        "DATASET_DIR = \"food-101/images\"\n",
        "CALORIE_FILE = \"calorie_data.csv\"\n",
        "\n",
        "# Step 1: Data Preprocessing\n",
        "print(\"Setting up data generators...\")\n",
        "data_gen = ImageDataGenerator(\n",
        "    rescale=1./255,\n",
        "    rotation_range=20,\n",
        "    width_shift_range=0.2,\n",
        "    height_shift_range=0.2,\n",
        "    horizontal_flip=True,\n",
        "    validation_split=0.1\n",
        ")\n",
        "\n",
        "train_generator = data_gen.flow_from_directory(\n",
        "    DATASET_DIR,\n",
        "    target_size=(224, 224),\n",
        "    batch_size=32,\n",
        "    class_mode='categorical',\n",
        "    subset='training'\n",
        ")\n",
        "\n",
        "val_generator = data_gen.flow_from_directory(\n",
        "    DATASET_DIR,\n",
        "    target_size=(224, 224),\n",
        "    batch_size=32,\n",
        "    class_mode='categorical',\n",
        "    subset='validation'\n",
        ")\n"
      ],
      "metadata": {
        "id": "lxRC4T4nB2ZO"
      },
      "execution_count": null,
      "outputs": []
    },
    {
      "cell_type": "code",
      "source": [
        "print(\"Building the model...\")\n",
        "base_model = ResNet50(weights='imagenet', include_top=False, input_shape=(224, 224, 3))\n",
        "x = GlobalAveragePooling2D()(base_model.output)\n",
        "x = Dense(1024, activation='relu')(x)\n",
        "predictions = Dense(len(train_generator.class_indices), activation='softmax')(x)\n",
        "model = Model(inputs=base_model.input, outputs=predictions)\n"
      ],
      "metadata": {
        "id": "4AQHzDD5B23m"
      },
      "execution_count": null,
      "outputs": []
    },
    {
      "cell_type": "code",
      "source": [
        "# Freeze the base model during initial training\n",
        "for layer in base_model.layers:\n",
        "    layer.trainable = False"
      ],
      "metadata": {
        "id": "gW1Dr9N7B3Zl"
      },
      "execution_count": null,
      "outputs": []
    },
    {
      "cell_type": "code",
      "source": [
        "model.compile(optimizer=tf.keras.optimizers.Adam(learning_rate=0.0001),\n",
        "              loss='categorical_crossentropy',\n",
        "              metrics=['accuracy'])"
      ],
      "metadata": {
        "id": "7gMfw6JrB4KO"
      },
      "execution_count": null,
      "outputs": []
    },
    {
      "cell_type": "code",
      "source": [
        "print(\"Training the model...\")\n",
        "model.fit(train_generator, validation_data=val_generator, epochs=10)"
      ],
      "metadata": {
        "id": "o9RAVoA3B4-m"
      },
      "execution_count": null,
      "outputs": []
    },
    {
      "cell_type": "code",
      "source": [
        "MODEL_PATH = \"food_recognition_model.h5\"\n",
        "model.save(MODEL_PATH)"
      ],
      "metadata": {
        "id": "7cdV8dSBB5mm"
      },
      "execution_count": null,
      "outputs": []
    },
    {
      "cell_type": "code",
      "source": [
        "print(\"Loading calorie data...\")\n",
        "calorie_data = pd.read_csv(CALORIE_FILE)\n",
        "def map_calories(label):\n",
        "    match = calorie_data[calorie_data['food'] == label]\n",
        "    return match['calories'].values[0] if not match.empty else None"
      ],
      "metadata": {
        "id": "U6lt6OPDB6F8"
      },
      "execution_count": null,
      "outputs": []
    },
    {
      "cell_type": "code",
      "source": [
        "def predict_calories(image_path):\n",
        "    img = tf.keras.preprocessing.image.load_img(image_path, target_size=(224, 224))\n",
        "    img_array = tf.keras.preprocessing.image.img_to_array(img) / 255.0\n",
        "    img_array = tf.expand_dims(img_array, axis=0)\n",
        "\n",
        "    predictions = model.predict(img_array)\n",
        "    predicted_label = list(train_generator.class_indices.keys())[np.argmax(predictions[0])]\n",
        "    calorie_value = map_calories(predicted_label)\n",
        "    return predicted_label, calorie_value"
      ],
      "metadata": {
        "id": "zne8X2RiB6-4"
      },
      "execution_count": null,
      "outputs": []
    },
    {
      "cell_type": "code",
      "source": [
        "print(\"Setting up the API...\")\n",
        "app = Flask(__name__)"
      ],
      "metadata": {
        "id": "A68eJAd1B7n3"
      },
      "execution_count": null,
      "outputs": []
    },
    {
      "cell_type": "code",
      "source": [
        "@app.route('/predict', methods=['POST'])\n",
        "def predict():\n",
        "    if 'image' not in request.files:\n",
        "        return jsonify({\"error\": \"No image file provided\"}), 400\n",
        "\n",
        "    image = request.files['image']\n",
        "    image_path = os.path.join(\"uploads\", image.filename)\n",
        "    image.save(image_path)\n",
        "\n",
        "    label, calories = predict_calories(image_path)\n",
        "    os.remove(image_path)  # Clean up the uploaded image\n",
        "\n",
        "    if calories is None:\n",
        "        return jsonify({\"error\": \"Calorie information not available for the predicted food\"}), 404\n",
        "\n",
        "    return jsonify({\"food\": label, \"calories\": calories})\n",
        "\n",
        "    if __name__ == '__main__':\n",
        "    os.makedirs(\"uploads\", exist_ok=True)\n",
        "    app.run(debug=True)\n"
      ],
      "metadata": {
        "id": "T3kCVgufB-fW"
      },
      "execution_count": null,
      "outputs": []
    },
    {
      "cell_type": "code",
      "source": [],
      "metadata": {
        "id": "GoVCucP2B-_8"
      },
      "execution_count": null,
      "outputs": []
    }
  ]
}